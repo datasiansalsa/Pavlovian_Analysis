{
 "cells": [
  {
   "cell_type": "code",
   "execution_count": 1,
   "metadata": {},
   "outputs": [
    {
     "data": {
      "text/plain": [
       "'\\n@Josh Boquiren\\nBehavioral Analysis\\nVer. I\\nOTIS Lab MUSC\\n11.10.2022\\n\\nREADME:\\n\\nTO-DO:\\n - make confusion matrix\\n - calculate aucROC\\n\\n'"
      ]
     },
     "execution_count": 1,
     "metadata": {},
     "output_type": "execute_result"
    }
   ],
   "source": [
    "\"\"\"\n",
    "@Josh Boquiren\n",
    "Behavioral Analysis\n",
    "Ver. I\n",
    "OTIS Lab MUSC\n",
    "11.10.2022\n",
    "\n",
    "README:\n",
    "//Calculates the AUROC for Jackie's Pavlovian project\n",
    "\n",
    "TO-DO:\n",
    "\n",
    "\"\"\""
   ]
  },
  {
   "cell_type": "code",
   "execution_count": 2,
   "metadata": {},
   "outputs": [],
   "source": [
    "\"\"\"import start libraries\"\"\"\n",
    "\n",
    "import scipy.io\n",
    "import pandas as pd\n",
    "import polars as pl\n",
    "import numpy as np\n",
    "import matplotlib.pyplot as plt\n",
    "import seaborn as sns\n",
    "import os\n"
   ]
  },
  {
   "attachments": {},
   "cell_type": "markdown",
   "metadata": {},
   "source": [
    "Gathering data"
   ]
  },
  {
   "cell_type": "code",
   "execution_count": 3,
   "metadata": {},
   "outputs": [
    {
     "name": "stdout",
     "output_type": "stream",
     "text": [
      "Working folder: PC_D1\n",
      "     ---> output.xlsx SKIPPED!\n",
      "     ---> PMCA1_PC-D1_0_6000_221025-173015.mat\n",
      "     ---> PMCA2_PC-D1_0_6000_221026-125612.mat\n",
      "     ---> PMCA3_PC-D1_0_6000_221026-144102.mat\n",
      "     ---> PMCA4_PC-D1_0_6000_221026-151751.mat\n",
      "     ---> PMCA5_PC-D1_0_6000_221027-152335.mat\n",
      "     ---> PMCA6_PC-D1_0_6000_221026-170851.mat\n",
      "     ---> PMCA7_PC-D1_0_6000_221026-173437.mat\n",
      "     ---> TDT2-PC-D1_0_6000_221025-171310.mat\n",
      "     ---> TDT3_PC-D1_0_6000_221026-132941.mat\n",
      "     ---> TDT4_PC-D1_0_6000_221026-140711.mat\n",
      "     ---> TDT5_PC-D1_0_6000_221026-155611.mat\n",
      "     ---> TDT6_PC-D1_0_6000_221026-162706.mat\n",
      "     ---> TDT7_PC-D1_0_6000_221026-181641.mat\n",
      "     ---> TDT8_PC-D1_0_6000_221027-175401.mat\n",
      "Working folder: PC_D2\n",
      "     ---> output.xlsx SKIPPED!\n",
      "     ---> PMCA1_PC-D2_0_6000_221026-121510.mat\n",
      "     ---> PMCA2_PC-D2_0_6000_221027-114548.mat\n",
      "     ---> PMCA3_PC-D2_0_6000_221027-124557.mat\n",
      "     ---> PMCA4_PC-D2_0_6000_221027-141123.mat\n",
      "     ---> PMCA5_PC-D2_0_6000_221101-145502.mat\n",
      "     ---> PMCA6_PC-D2_0_6000_221027-163525.mat\n",
      "     ---> PMCA7_PC-D2_0_6000_221027-175022.mat\n",
      "     ---> TDT2_PC-D2_0_6000_221026-114531.mat\n",
      "     ---> TDT3_PC-D2_0_6000_221027-103200.mat\n",
      "     ---> TDT4_PC-D2_0_6000_221027-125541.mat\n",
      "     ---> TDT5_PC-D2_0_6000_221027-141540.mat\n",
      "     ---> TDT6_PC-D2_0_6000_221027-152313.mat\n",
      "     ---> TDT7_PC-D2_0_6000_221027-163830.mat\n",
      "     ---> TDT8_PC-D2_0_6000_221101-171844.mat\n",
      "Working folder: PC_D3\n",
      "     ---> output.xlsx SKIPPED!\n",
      "     ---> PMCA1_PC-D3_0_6000_221027-101837.mat\n",
      "     ---> PMCA2_PC-D3_0_6000_221101-113435.mat\n",
      "     ---> PMCA3_PC-D3_0_6000_221101-123537.mat\n",
      "     ---> PMCA4_PC-D3_0_6000_221101-135309.mat\n",
      "     ---> PMCA5_PC-D3_0_6000_221102-170127.mat\n",
      "     ---> PMCA6_PC-D3_0_6000_221101-160945.mat\n",
      "     ---> PMCA7_PC-D3_0_6000_221101-172003.mat\n",
      "     ---> TDT2_PC-D3_0_6000_221027-112934.mat\n",
      "     ---> TDT3_PC-D3_0_6000_221101-124346.mat\n",
      "     ---> TDT4_PC-D3_0_6000_221101-113025.mat\n",
      "     ---> TDT5_PC-D3_0_6000_221101-145830.mat\n",
      "     ---> TDT6_PC-D3_0_6000_221101-134507.mat\n",
      "     ---> TDT7_PC-D3_0_6000_221101-161445.mat\n",
      "     ---> TDT8_PC-D3_0_6000_221102-181606.mat\n",
      "Working folder: PC_D4\n",
      "     ---> output.xlsx SKIPPED!\n",
      "     ---> PMCA1_PC-D4_0_6000_221101-102111.mat\n",
      "     ---> PMCA2_PC-D4_0_6000_221102-120657.mat\n",
      "     ---> PMCA3_PC-D4_0_6000_221102-131822.mat\n",
      "     ---> PMCA4_PC-D4_0_6000_221102-142703.mat\n",
      "     ---> PMCA5_PC-D4_0_6000_221103-161902.mat\n",
      "     ---> PMCA6_PC-D4_0_6000_221102-165302.mat\n",
      "     ---> PMCA7_PC-D4_0_6000_221102-191014.mat\n",
      "     ---> TDT2_PC-D4_0_6000_221101-102258.mat\n",
      "     ---> TDT3_PC-D4_0_6000_221102-131451.mat\n",
      "     ---> TDT4_PC-D4_0_6000_221102-154439.mat\n",
      "     ---> TDT5_PC-D4_0_6000_221102-104235.mat\n",
      "     ---> TDT6_PC-D4_0_6000_221102-180544.mat\n",
      "     ---> TDT7_PC-D4_0_6000_221102-154145.mat\n",
      "     ---> TDT8_PC-D4_0_6000_221103-181307.mat\n"
     ]
    }
   ],
   "source": [
    "\"\"\"Importing data and creating dataframe\"\"\"\n",
    "\n",
    "##to run from JB's computer\n",
    "basedir = r\"C:\\Users\\jboqu\\Dropbox\\2P Imaging Projects\\Jackie\\Josh\\Projects\\Behavioral_Analysis\\PavRawData\"\n",
    "\n",
    "##to run from lab computer\n",
    "# basedir = r\"C:\\Users\\otisl\\Dropbox\\Jackie Projects\\Projects\\PFC_GFAP-PMCA_Pavlovian-Sucrose\\PMCA_Rawdata\\Pav-Acq\\PC_D1\"\n",
    "\n",
    "for folder in os.listdir(basedir):\n",
    "    if folder.__contains__(\".\"):\n",
    "        (\"Working folder:\", folder, \"SKIPPED!\")\n",
    "    else:\n",
    "        print(\"Working folder:\", folder)\n",
    "        data = []\n",
    "        for file in os.listdir(os.path.join(basedir, folder)):\n",
    "            if file.endswith(\".mat\") == False:\n",
    "                print(\"     --->\", file, \"SKIPPED!\")\n",
    "            if file.endswith(\".mat\"): #only runs .mat files\n",
    "                print(\"     --->\", file)\n",
    "                mat = scipy.io.loadmat(os.path.join(basedir, folder, file))\n",
    "                lis = list(mat) #stores headers that are in mat file; print this to see what headers are in the .mat file\n",
    "\n",
    "                #divide all columns by 1000 to convert to seconds\n",
    "                cues = np.squeeze(np.array(mat['cues'][1:]))/1000\n",
    "                cues_neg = np.squeeze(np.array(mat['cuesminus'][1:]))/1000\n",
    "                cues_pos = [i for i in cues if i not in cues_neg]\n",
    "                fxdpumps = np.squeeze(np.array(mat['fxdpumps']))/1000\n",
    "                licks = np.squeeze(np.array(mat['licks']))/1000\n"
   ]
  },
  {
   "cell_type": "code",
   "execution_count": 4,
   "metadata": {},
   "outputs": [
    {
     "name": "stdout",
     "output_type": "stream",
     "text": [
      "Working folder: PC_D1\n",
      "     ---> output.xlsx SKIPPED!\n",
      "     ---> PMCA1_PC-D1_0_6000_221025-173015.mat\n",
      "     ---> PMCA2_PC-D1_0_6000_221026-125612.mat\n",
      "     ---> PMCA3_PC-D1_0_6000_221026-144102.mat\n",
      "     ---> PMCA4_PC-D1_0_6000_221026-151751.mat\n",
      "     ---> PMCA5_PC-D1_0_6000_221027-152335.mat\n",
      "     ---> PMCA6_PC-D1_0_6000_221026-170851.mat\n",
      "     ---> PMCA7_PC-D1_0_6000_221026-173437.mat\n",
      "     ---> TDT2-PC-D1_0_6000_221025-171310.mat\n",
      "     ---> TDT3_PC-D1_0_6000_221026-132941.mat\n",
      "     ---> TDT4_PC-D1_0_6000_221026-140711.mat\n",
      "     ---> TDT5_PC-D1_0_6000_221026-155611.mat\n",
      "     ---> TDT6_PC-D1_0_6000_221026-162706.mat\n",
      "     ---> TDT7_PC-D1_0_6000_221026-181641.mat\n",
      "     ---> TDT8_PC-D1_0_6000_221027-175401.mat\n",
      "Working folder: PC_D2\n",
      "     ---> output.xlsx SKIPPED!\n",
      "     ---> PMCA1_PC-D2_0_6000_221026-121510.mat\n",
      "     ---> PMCA2_PC-D2_0_6000_221027-114548.mat\n",
      "     ---> PMCA3_PC-D2_0_6000_221027-124557.mat\n",
      "     ---> PMCA4_PC-D2_0_6000_221027-141123.mat\n",
      "     ---> PMCA5_PC-D2_0_6000_221101-145502.mat\n",
      "     ---> PMCA6_PC-D2_0_6000_221027-163525.mat\n",
      "     ---> PMCA7_PC-D2_0_6000_221027-175022.mat\n",
      "     ---> TDT2_PC-D2_0_6000_221026-114531.mat\n",
      "     ---> TDT3_PC-D2_0_6000_221027-103200.mat\n",
      "     ---> TDT4_PC-D2_0_6000_221027-125541.mat\n",
      "     ---> TDT5_PC-D2_0_6000_221027-141540.mat\n",
      "     ---> TDT6_PC-D2_0_6000_221027-152313.mat\n",
      "     ---> TDT7_PC-D2_0_6000_221027-163830.mat\n",
      "     ---> TDT8_PC-D2_0_6000_221101-171844.mat\n",
      "Working folder: PC_D3\n",
      "     ---> output.xlsx SKIPPED!\n",
      "     ---> PMCA1_PC-D3_0_6000_221027-101837.mat\n",
      "     ---> PMCA2_PC-D3_0_6000_221101-113435.mat\n",
      "     ---> PMCA3_PC-D3_0_6000_221101-123537.mat\n",
      "     ---> PMCA4_PC-D3_0_6000_221101-135309.mat\n",
      "     ---> PMCA5_PC-D3_0_6000_221102-170127.mat\n",
      "     ---> PMCA6_PC-D3_0_6000_221101-160945.mat\n",
      "     ---> PMCA7_PC-D3_0_6000_221101-172003.mat\n",
      "     ---> TDT2_PC-D3_0_6000_221027-112934.mat\n",
      "     ---> TDT3_PC-D3_0_6000_221101-124346.mat\n",
      "     ---> TDT4_PC-D3_0_6000_221101-113025.mat\n",
      "     ---> TDT5_PC-D3_0_6000_221101-145830.mat\n",
      "     ---> TDT6_PC-D3_0_6000_221101-134507.mat\n",
      "     ---> TDT7_PC-D3_0_6000_221101-161445.mat\n",
      "     ---> TDT8_PC-D3_0_6000_221102-181606.mat\n",
      "Working folder: PC_D4\n",
      "     ---> output.xlsx SKIPPED!\n",
      "     ---> PMCA1_PC-D4_0_6000_221101-102111.mat\n",
      "     ---> PMCA2_PC-D4_0_6000_221102-120657.mat\n",
      "     ---> PMCA3_PC-D4_0_6000_221102-131822.mat\n",
      "     ---> PMCA4_PC-D4_0_6000_221102-142703.mat\n",
      "     ---> PMCA5_PC-D4_0_6000_221103-161902.mat\n",
      "     ---> PMCA6_PC-D4_0_6000_221102-165302.mat\n",
      "     ---> PMCA7_PC-D4_0_6000_221102-191014.mat\n",
      "     ---> TDT2_PC-D4_0_6000_221101-102258.mat\n",
      "     ---> TDT3_PC-D4_0_6000_221102-131451.mat\n",
      "     ---> TDT4_PC-D4_0_6000_221102-154439.mat\n",
      "     ---> TDT5_PC-D4_0_6000_221102-104235.mat\n",
      "     ---> TDT6_PC-D4_0_6000_221102-180544.mat\n",
      "     ---> TDT7_PC-D4_0_6000_221102-154145.mat\n",
      "     ---> TDT8_PC-D4_0_6000_221103-181307.mat\n"
     ]
    }
   ],
   "source": [
    "\"\"\"Compiling data\"\"\"\n",
    "\n",
    "##to run from JB's computer\n",
    "basedir = r\"C:\\Users\\jboqu\\Dropbox\\2P Imaging Projects\\Jackie\\Josh\\Projects\\Behavioral_Analysis\\PavRawData\"\n",
    "\n",
    "##to run from lab computer\n",
    "# basedir = r\"C:\\Users\\otisl\\Dropbox\\Jackie Projects\\Projects\\PFC_GFAP-PMCA_Pavlovian-Sucrose\\PMCA_Rawdata\\Pav-Acq\\PC_D1\"\n",
    "\n",
    "row = []\n",
    "for folder in os.listdir(basedir):\n",
    "    if folder.__contains__(\".\"):\n",
    "        (\"Working folder:\", folder, \"SKIPPED!\")\n",
    "    else:\n",
    "        print(\"Working folder:\", folder)\n",
    "        for file in os.listdir(os.path.join(basedir, folder)):\n",
    "            if file.endswith(\".mat\") == False:\n",
    "                print(\"     --->\", file, \"SKIPPED!\")\n",
    "            if file.endswith(\".mat\"): #only runs .mat files\n",
    "                print(\"     --->\", file)\n",
    "                mat = scipy.io.loadmat(os.path.join(basedir, folder, file))\n",
    "                lis = list(mat) #stores headers that are in mat file; print this to see what headers are in the .mat file\n",
    "                cuesminus = np.squeeze(np.array(mat['cuesminus'][1:]))/1000 #converting everything to seconds by dividing by 1000 \n",
    "                cues = np.squeeze(np.array(mat['cues'][1:]))/1000\n",
    "                fxdpumps = np.squeeze(np.array(mat['fxdpumps']))/1000\n",
    "                licks = np.squeeze(np.array(mat['licks']))/1000\n",
    "                cuesplus = []\n",
    "                for i in cues:\n",
    "                    if i not in cuesminus:\n",
    "                        cuesplus.append(i)\n",
    "                cuesplus = np.array(cuesplus)\n",
    "                # print(\"Cues:\", len(cues), \"Cuesplus:\", len(cuesplus), \"Cuesminus:\", len(cuesminus), \"Licks:\", len(licks))\n",
    "\n",
    "                \"\"\"assigning CS type with reward delivery or absence of reward delivery\"\"\"\n",
    "                for i in cues:\n",
    "                    baseline_range = i-1, i\n",
    "                    trace_range = i, i+3\n",
    "                    baseline_licks = 0\n",
    "                    trace_licks = 0\n",
    "                    for lick in licks:\n",
    "                        if lick>baseline_range[0] and lick<baseline_range[1]: #increments if in range baseline interval\n",
    "                            baseline_licks+=1 \n",
    "                        elif lick>trace_range[0] and lick<trace_range[1]: #increments if in range trace interval\n",
    "                            trace_licks+=1\n",
    "                    delta = trace_licks - baseline_licks\n",
    "                    if i in cuesminus:\n",
    "                        row.append({\n",
    "                            \"File\": file,\n",
    "                            \"Licks in Baseline\": baseline_licks, \n",
    "                            \"Event Time\": i, \n",
    "                            \"Event Type\": \"-\", \n",
    "                            \"Licks in Trace Interval\": trace_licks,\n",
    "                            \"Delta\": delta,\n",
    "                            \"Outcome\": 0})\n",
    "                    elif i in cuesplus:\n",
    "                        row.append({\n",
    "                            \"File\": file,\n",
    "                            \"Licks in Baseline\": baseline_licks, \n",
    "                            \"Event Time\": i, \n",
    "                            \"Event Type\": \"+\", \n",
    "                            \"Licks in Trace Interval\": trace_licks,\n",
    "                            \"Delta\": delta,\n",
    "                            \"Outcome\": 1})\n"
   ]
  },
  {
   "cell_type": "code",
   "execution_count": 5,
   "metadata": {},
   "outputs": [
    {
     "name": "stdout",
     "output_type": "stream",
     "text": [
      "                                   File  Licks in Baseline  Event Time  \\\n",
      "0  PMCA1_PC-D1_0_6000_221025-173015.mat                  0      39.518   \n",
      "1  PMCA1_PC-D1_0_6000_221025-173015.mat                  0      74.243   \n",
      "2  PMCA1_PC-D1_0_6000_221025-173015.mat                  2     103.028   \n",
      "3  PMCA1_PC-D1_0_6000_221025-173015.mat                  2     128.717   \n",
      "4  PMCA1_PC-D1_0_6000_221025-173015.mat                  0     151.784   \n",
      "\n",
      "  Event Type  Licks in Trace Interval  Delta  Outcome  \n",
      "0          -                        0      0        0  \n",
      "1          +                        0      0        1  \n",
      "2          -                        3      1        0  \n",
      "3          +                        0     -2        1  \n",
      "4          -                        1      1        0  \n",
      "\n",
      " False\n"
     ]
    }
   ],
   "source": [
    "\"\"\"Creating dataframe\"\"\"\n",
    "\n",
    "df = pd.DataFrame(row)\n",
    "print(df.head())\n",
    "\n",
    "print(\"\\n\", df.isnull().values.any())"
   ]
  },
  {
   "attachments": {},
   "cell_type": "markdown",
   "metadata": {},
   "source": [
    "Calculating AUROC"
   ]
  },
  {
   "cell_type": "code",
   "execution_count": 19,
   "metadata": {},
   "outputs": [],
   "source": [
    "\"\"\"import libraries\"\"\"\n",
    "\n",
    "from sklearn.model_selection import train_test_split\n",
    "import scipy.stats as stats\n",
    "from sklearn import metrics\n",
    "from sklearn.linear_model import LogisticRegression"
   ]
  },
  {
   "cell_type": "code",
   "execution_count": 20,
   "metadata": {},
   "outputs": [
    {
     "data": {
      "text/html": [
       "<div>\n",
       "<style scoped>\n",
       "    .dataframe tbody tr th:only-of-type {\n",
       "        vertical-align: middle;\n",
       "    }\n",
       "\n",
       "    .dataframe tbody tr th {\n",
       "        vertical-align: top;\n",
       "    }\n",
       "\n",
       "    .dataframe thead th {\n",
       "        text-align: right;\n",
       "    }\n",
       "</style>\n",
       "<table border=\"1\" class=\"dataframe\">\n",
       "  <thead>\n",
       "    <tr style=\"text-align: right;\">\n",
       "      <th></th>\n",
       "      <th>Licks in Baseline</th>\n",
       "      <th>Event Time</th>\n",
       "      <th>Licks in Trace Interval</th>\n",
       "      <th>Delta</th>\n",
       "    </tr>\n",
       "  </thead>\n",
       "  <tbody>\n",
       "    <tr>\n",
       "      <th>0</th>\n",
       "      <td>-0.378604</td>\n",
       "      <td>-1.707393</td>\n",
       "      <td>-0.608696</td>\n",
       "      <td>-0.486958</td>\n",
       "    </tr>\n",
       "    <tr>\n",
       "      <th>1</th>\n",
       "      <td>-0.378604</td>\n",
       "      <td>-1.675387</td>\n",
       "      <td>-0.608696</td>\n",
       "      <td>-0.486958</td>\n",
       "    </tr>\n",
       "    <tr>\n",
       "      <th>2</th>\n",
       "      <td>0.614754</td>\n",
       "      <td>-1.648855</td>\n",
       "      <td>-0.040449</td>\n",
       "      <td>-0.288303</td>\n",
       "    </tr>\n",
       "    <tr>\n",
       "      <th>3</th>\n",
       "      <td>0.614754</td>\n",
       "      <td>-1.625177</td>\n",
       "      <td>-0.608696</td>\n",
       "      <td>-0.884269</td>\n",
       "    </tr>\n",
       "    <tr>\n",
       "      <th>4</th>\n",
       "      <td>-0.378604</td>\n",
       "      <td>-1.603916</td>\n",
       "      <td>-0.419280</td>\n",
       "      <td>-0.288303</td>\n",
       "    </tr>\n",
       "  </tbody>\n",
       "</table>\n",
       "</div>"
      ],
      "text/plain": [
       "   Licks in Baseline  Event Time  Licks in Trace Interval     Delta\n",
       "0          -0.378604   -1.707393                -0.608696 -0.486958\n",
       "1          -0.378604   -1.675387                -0.608696 -0.486958\n",
       "2           0.614754   -1.648855                -0.040449 -0.288303\n",
       "3           0.614754   -1.625177                -0.608696 -0.884269\n",
       "4          -0.378604   -1.603916                -0.419280 -0.288303"
      ]
     },
     "execution_count": 20,
     "metadata": {},
     "output_type": "execute_result"
    }
   ],
   "source": [
    "\"\"\"clean data\"\"\"\n",
    "\n",
    "X = df.drop(['Outcome', 'Event Type', 'File'],axis=1) #get rid of any non-number variables (leaves predictor variables)\n",
    "y = df['Outcome'] #assigns response variable\n",
    "\n",
    "# standardization\n",
    "X = (X-X.mean())/X.std()\n",
    "\n",
    "X.head()"
   ]
  },
  {
   "cell_type": "code",
   "execution_count": 21,
   "metadata": {},
   "outputs": [
    {
     "data": {
      "text/plain": [
       "LogisticRegression()"
      ]
     },
     "execution_count": 21,
     "metadata": {},
     "output_type": "execute_result"
    }
   ],
   "source": [
    "\"\"\"train data\"\"\"\n",
    "\n",
    "#split the dataset into training (75%) and testing (25%) sets\n",
    "X_train,X_test,y_train,y_test = train_test_split(X,y,test_size = 0.25)\n",
    "\n",
    "#instantiate the model\n",
    "log_regression = LogisticRegression()\n",
    "\n",
    "#fit the model using the training data\n",
    "log_regression.fit(X_train,y_train)\n"
   ]
  },
  {
   "cell_type": "code",
   "execution_count": 22,
   "metadata": {},
   "outputs": [
    {
     "data": {
      "image/png": "[encoded data removed]",
      "text/plain": [
       "<Figure size 640x480 with 1 Axes>"
      ]
     },
     "metadata": {},
     "output_type": "display_data"
    }
   ],
   "source": [
    "\"\"\"calculation and plotting\"\"\"\n",
    "\n",
    "\n",
    "#define metrics\n",
    "y_pred_proba = log_regression.predict_proba(X_test)[::,1]\n",
    "fpr, tpr, _ = metrics.roc_curve(y_test,  y_pred_proba)\n",
    "auc = metrics.roc_auc_score(y_test, y_pred_proba)\n",
    "\n",
    "#create ROC curve\n",
    "plt.plot(fpr,tpr,label=\"AUC=\"+str(auc))\n",
    "plt.ylabel('True Positive Rate')\n",
    "plt.xlabel('False Positive Rate')\n",
    "plt.legend(loc=4)\n",
    "plt.show()"
   ]
  },
  {
   "cell_type": "code",
   "execution_count": null,
   "metadata": {},
   "outputs": [],
   "source": [
    "\"\"\"Saving to .csv\"\"\"\n",
    "\n",
    "# df.to_excel(os.path.join(basedir, \"output.xlsx\"), sheet_name=(\"Output\")) #creates and sends data to excel file and creates a named sheet\n",
    "# print(\"         ===> Output file created.\")"
   ]
  }
 ],
 "metadata": {
  "kernelspec": {
   "display_name": "base",
   "language": "python",
   "name": "python3"
  },
  "language_info": {
   "codemirror_mode": {
    "name": "ipython",
    "version": 3
   },
   "file_extension": ".py",
   "mimetype": "text/x-python",
   "name": "python",
   "nbconvert_exporter": "python",
   "pygments_lexer": "ipython3",
   "version": "3.9.13"
  },
  "vscode": {
   "interpreter": {
    "hash": "776da2145dd803a979453fbc1814d1b7d7d946f11dae218ea400f99c86c281bc"
   }
  }
 },
 "nbformat": 4,
 "nbformat_minor": 2
}
